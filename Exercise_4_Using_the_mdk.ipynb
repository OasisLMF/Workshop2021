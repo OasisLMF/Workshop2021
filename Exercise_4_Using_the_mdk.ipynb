{
 "cells": [
  {
   "cell_type": "markdown",
   "metadata": {},
   "source": [
    "# Exercise 4 - running the model in the MDK\n",
    "\n"
   ]
  },
  {
   "cell_type": "markdown",
   "metadata": {},
   "source": [
    "In this exercise we will use the MDK to run an analysis and see some of the outputs "
   ]
  },
  {
   "cell_type": "markdown",
   "metadata": {},
   "source": [
    "### Import python libraries"
   ]
  },
  {
   "cell_type": "code",
   "execution_count": null,
   "metadata": {},
   "outputs": [],
   "source": [
    "import json"
   ]
  },
  {
   "cell_type": "markdown",
   "metadata": {},
   "source": [
    "### use the inbuilt tools to convert the model files to binary"
   ]
  },
  {
   "cell_type": "code",
   "execution_count": null,
   "metadata": {},
   "outputs": [],
   "source": [
    "# convert model files to binary\n",
    "\n",
    "! footprinttobin -i 11 -n < model_data/footprint.csv\n",
    "! mv footprint.* model_data/\n",
    "! evetobin < model_data/events.csv> model_data/events.bin\n",
    "! vulnerabilitytobin -d11 < model_data/vulnerability.csv > model_data/vulnerability.bin\n",
    "! damagebintobin < model_data/damage_bin_dict.csv > model_data/damage_bin_dict.bin\n",
    "! occurrencetobin -P20 < model_data/occurrence.csv > model_data/occurrence.bin\n",
    "! returnperiodtobin < model_data/returnperiods.csv > model_data/returnperiods.bin\n",
    "\n",
    "! ls -l model_data/"
   ]
  },
  {
   "cell_type": "markdown",
   "metadata": {},
   "source": [
    "### define the analysis which we want to run"
   ]
  },
  {
   "cell_type": "code",
   "execution_count": null,
   "metadata": {},
   "outputs": [],
   "source": [
    "# analysis settings file\n",
    "analysis_settings = {\n",
    "    \"module_supplier_id\": \"OasisLMF\",\n",
    "    \"model_version_id\": \"OasisHurdat\",\n",
    "    \"number_of_samples\": 10,\n",
    "    \"gul_threshold\": 0,\n",
    "    \"gul_output\": True,\n",
    "    \"model_settings\": {},\n",
    "    \"gul_summaries\": [\n",
    "        {\n",
    "            \"aalcalc\": True,\n",
    "            \"eltcalc\": True,\n",
    "            \"id\": 1,\n",
    "            \"lec_output\": True,\n",
    "            \"leccalc\": {\n",
    "                \"full_uncertainty_aep\": True,\n",
    "                \"full_uncertainty_oep\": True,\n",
    "                \"return_period_file\": True\n",
    "            }\n",
    "        }\n",
    "    ]\n",
    "}\n",
    "\n",
    "with open('analysis_settings.json','w') as a:\n",
    "    json.dump(analysis_settings,a)\n",
    "\n",
    "! ls -ltr ."
   ]
  },
  {
   "cell_type": "markdown",
   "metadata": {},
   "source": [
    "### inspect the oasislmf model run command"
   ]
  },
  {
   "cell_type": "code",
   "execution_count": null,
   "metadata": {},
   "outputs": [],
   "source": [
    "# oasislmf model run\n",
    "! oasislmf model run --help"
   ]
  },
  {
   "cell_type": "markdown",
   "metadata": {},
   "source": [
    "### run the analysis!"
   ]
  },
  {
   "cell_type": "code",
   "execution_count": null,
   "metadata": {},
   "outputs": [],
   "source": [
    "# run the analysis\n",
    "! oasislmf model run -a analysis_settings.json -d model_data -m lookup_config.json -x test_data/location.csv"
   ]
  },
  {
   "cell_type": "markdown",
   "metadata": {},
   "source": [
    "### inspect the outputs"
   ]
  },
  {
   "cell_type": "code",
   "execution_count": null,
   "metadata": {},
   "outputs": [],
   "source": [
    "! ls -l <<<run directory>>>/output"
   ]
  },
  {
   "cell_type": "code",
   "execution_count": null,
   "metadata": {},
   "outputs": [],
   "source": [
    "! more <<<run directory>>>/output/gul_S1_eltcalc.csv"
   ]
  }
 ],
 "metadata": {
  "kernelspec": {
   "display_name": "Python 3",
   "language": "python",
   "name": "python3"
  },
  "language_info": {
   "codemirror_mode": {
    "name": "ipython",
    "version": 3
   },
   "file_extension": ".py",
   "mimetype": "text/x-python",
   "name": "python",
   "nbconvert_exporter": "python",
   "pygments_lexer": "ipython3",
   "version": "3.8.10"
  }
 },
 "nbformat": 4,
 "nbformat_minor": 4
}
