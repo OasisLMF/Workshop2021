{
 "cells": [
  {
   "cell_type": "markdown",
   "metadata": {},
   "source": [
    "# Exercise 3 - Oasis Keys Service\n",
    "\n",
    "This exercise shows how to use the inbuilt keys service code to map exposure data to the model specific keys (area peril and vulnerability)"
   ]
  },
  {
   "cell_type": "code",
   "execution_count": null,
   "metadata": {},
   "outputs": [],
   "source": [
    "# standard libraries\n",
    "import json\n",
    "\n",
    "import geopandas as gpd\n",
    "import pandas as pd\n",
    "\n",
    "from shapely.geometry import Polygon\n",
    "\n"
   ]
  },
  {
   "cell_type": "code",
   "execution_count": null,
   "metadata": {},
   "outputs": [],
   "source": [
    "# oed exposure data\n",
    "df_loc = pd.read_csv('test_data/location.csv')\n",
    "\n",
    "df_loc"
   ]
  },
  {
   "cell_type": "code",
   "execution_count": null,
   "metadata": {},
   "outputs": [],
   "source": [
    "! oasislmf model generate-keys --help"
   ]
  },
  {
   "cell_type": "code",
   "execution_count": null,
   "metadata": {},
   "outputs": [],
   "source": [
    "lookup_config = {\n",
    "    \"model\": {\n",
    "        \"supplier_id\": \"OasisLMF\",\n",
    "        \"model_id\": \"OasisHurdat\",\n",
    "        \"model_version\": \"0.0.1\"\n",
    "    },\n",
    "    \"builtin_lookup_type\": \"new_lookup\",\n",
    "    \"keys_data_path\": \"keys_data\",\n",
    "    \"step_definition\": {\n",
    "        \"area_peril\":{\n",
    "            \"type\": \"rtree\",\n",
    "            \"columns\": [\"latitude\", \"longitude\"],\n",
    "            \"parameters\": {\n",
    "                \"file_path\": \"keys_data/areaperil_dict.parquet\",\n",
    "                \"file_type\": \"parquet\",\n",
    "                \"id_columns\": [\"area_peril_id\"], \n",
    "                \"nearest_neighbor_min_distance\": -1\n",
    "            }\n",
    "        },\n",
    "        \"split_loc_perils_covered\":{\n",
    "            \"type\": \"split_loc_perils_covered\" ,\n",
    "            \"columns\": [\"locperilscovered\"],\n",
    "            \"parameters\": {\n",
    "                \"model_perils_covered\": [\"WTC\"]\n",
    "            }\n",
    "        },\n",
    "        \"create_coverage_type\": {\n",
    "            \"type\": \"simple_pivot\",\n",
    "            \"parameters\": {\n",
    "                \"pivots\": [{\"new_cols\": {\"coverage_type\": 1}}]\n",
    "            }\n",
    "        },\n",
    "        \"vulnerability\": {\n",
    "            \"type\": \"merge\",\n",
    "            \"columns\": [\"peril_id\", \"coverage_type\", \"occupancycode\"],\n",
    "            \"parameters\": {\"file_path\": \"keys_data/vulnerability_dict.csv\",\n",
    "                           \"id_columns\": [\"vulnerability_id\"]\n",
    "                          }\n",
    "        }\n",
    "    },\n",
    "    \"strategy\": [\"split_loc_perils_covered\", \"area_peril\", \"create_coverage_type\", \"vulnerability\"]\n",
    "}\n",
    "\n",
    "lookup_config\n"
   ]
  },
  {
   "cell_type": "code",
   "execution_count": null,
   "metadata": {},
   "outputs": [],
   "source": [
    "# write config file\n",
    "with open('lookup_config.json','w') as lc:\n",
    "    json.dump(lookup_config, lc)\n",
    "    \n",
    "! ls -ltr"
   ]
  },
  {
   "cell_type": "code",
   "execution_count": null,
   "metadata": {},
   "outputs": [],
   "source": [
    "# generate areaperil grid \n",
    "df_grid = pd.read_csv('keys_data/areaperil_dict.csv')\n",
    "\n",
    "df_grid['lon1'] = df_grid['longitude']-0.05\n",
    "df_grid['lon2'] = df_grid['longitude']-0.05\n",
    "df_grid['lon3'] = df_grid['longitude']+0.05\n",
    "df_grid['lon4'] = df_grid['longitude']+0.05\n",
    "\n",
    "df_grid['lat1'] = df_grid['latitude']-0.05\n",
    "df_grid['lat2'] = df_grid['latitude']+0.05\n",
    "df_grid['lat3'] = df_grid['latitude']-0.05\n",
    "df_grid['lat4'] = df_grid['latitude']+0.05\n",
    "\n",
    "df_grid['peril_id'] = 'WTC'\n",
    "\n",
    "polygon_point_order = [1, 2, 4, 3]\n",
    "\n",
    "gdf_peril_area = gpd.GeoDataFrame(df_grid)\n",
    "gdf_peril_area[\"geometry\"] = gdf_peril_area.apply(\n",
    "    lambda row: Polygon([(row[f\"lon{i}\"], row[f\"lat{i}\"]) for i in polygon_point_order]), axis=1)\n",
    "\n",
    "\n",
    "gfd_file_df = gdf_peril_area[['peril_id','area_peril_id','geometry']]\n",
    "\n",
    "gfd_file_df.to_parquet('keys_data/areaperil_dict.parquet')\n",
    "\n",
    "gfd_file_df\n"
   ]
  },
  {
   "cell_type": "code",
   "execution_count": null,
   "metadata": {},
   "outputs": [],
   "source": [
    "with open('keys_data/vulnerability_dict.csv','w') as v:\n",
    "    v.write('PERIL_ID,COVERAGE_TYPE,OCCUPANCYCODE,VULNERABILITY_ID\\n')\n",
    "    v.write('WTC,1,1101,1')\n",
    "    \n",
    "! cat keys_data/vulnerability_dict.csv "
   ]
  },
  {
   "cell_type": "code",
   "execution_count": null,
   "metadata": {},
   "outputs": [],
   "source": [
    "! oasislmf model generate-keys -x 'test_data/location.csv' -g 'lookup_config.json' -d 'keys_data'"
   ]
  },
  {
   "cell_type": "code",
   "execution_count": null,
   "metadata": {},
   "outputs": [],
   "source": [
    "! head <<<'copy in \"Keys successful\" path from above message'>>>"
   ]
  },
  {
   "cell_type": "code",
   "execution_count": null,
   "metadata": {},
   "outputs": [],
   "source": []
  },
  {
   "cell_type": "code",
   "execution_count": null,
   "metadata": {},
   "outputs": [],
   "source": [
    "\n",
    "\n",
    "\n",
    "\n"
   ]
  },
  {
   "cell_type": "code",
   "execution_count": null,
   "metadata": {},
   "outputs": [],
   "source": []
  },
  {
   "cell_type": "code",
   "execution_count": null,
   "metadata": {},
   "outputs": [],
   "source": []
  },
  {
   "cell_type": "code",
   "execution_count": null,
   "metadata": {},
   "outputs": [],
   "source": []
  },
  {
   "cell_type": "code",
   "execution_count": null,
   "metadata": {},
   "outputs": [],
   "source": []
  },
  {
   "cell_type": "code",
   "execution_count": null,
   "metadata": {},
   "outputs": [],
   "source": []
  }
 ],
 "metadata": {
  "kernelspec": {
   "display_name": "Python 3",
   "language": "python",
   "name": "python3"
  },
  "language_info": {
   "codemirror_mode": {
    "name": "ipython",
    "version": 3
   },
   "file_extension": ".py",
   "mimetype": "text/x-python",
   "name": "python",
   "nbconvert_exporter": "python",
   "pygments_lexer": "ipython3",
   "version": "3.8.10"
  }
 },
 "nbformat": 4,
 "nbformat_minor": 4
}
