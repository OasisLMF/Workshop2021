{
 "cells": [
  {
   "cell_type": "markdown",
   "metadata": {},
   "source": [
    "# Exercise 2 - building vulnerbaility functions"
   ]
  },
  {
   "cell_type": "markdown",
   "metadata": {},
   "source": [
    "\n",
    "\n",
    "unsing euqation 12 from https://gmd.copernicus.org/articles/12/3085/2019/\n",
    "\n",
    "fij = (v3ij) / (1+v3ij), vij = max(vij−vthresh,0) / (vhalf−vthresh)\n",
    "\n",
    "vthresh = 25.7 m s−1\n",
    "\n",
    "vhalf = 74.7 m s−1\n"
   ]
  },
  {
   "cell_type": "markdown",
   "metadata": {},
   "source": [
    "### import python libraries"
   ]
  },
  {
   "cell_type": "code",
   "execution_count": null,
   "metadata": {},
   "outputs": [],
   "source": [
    "import math\n",
    "\n",
    "import pandas as pd"
   ]
  },
  {
   "cell_type": "code",
   "execution_count": null,
   "metadata": {},
   "outputs": [],
   "source": [
    "df_intensity = pd.read_csv('model_data/intensity_bin_dict.csv')\n",
    "\n",
    "df_intensity"
   ]
  },
  {
   "cell_type": "code",
   "execution_count": null,
   "metadata": {},
   "outputs": [],
   "source": [
    "# function to calculate damage factor f_ij from max windspeed v_ij\n",
    "def get_damage_factor(v_ij,v_thresh,v_half):\n",
    "    v_ij = max(v_ij - v_thresh,0) / (v_half - v_thresh)\n",
    "    f_ij = (v_ij**3) / (1 + v_ij**3)\n",
    "    return f_ij"
   ]
  },
  {
   "cell_type": "code",
   "execution_count": null,
   "metadata": {},
   "outputs": [],
   "source": [
    "#vulnerability functions\n",
    "vulnerability_functions = {'residential': {'vulnerability_id':1, 'v_thresh': 25.7, 'v_half': 74.7}}\n",
    "\n",
    "vulnerability_functions"
   ]
  },
  {
   "cell_type": "code",
   "execution_count": null,
   "metadata": {},
   "outputs": [],
   "source": [
    "# generate vulnerability file\n",
    "\n",
    "mps_to_knots = 1.94384\n",
    "\n",
    "v_lst = []\n",
    "d_lst = []\n",
    "\n",
    "for v in vulnerability_functions:\n",
    "    v_id = vulnerability_functions[v]['vulnerability_id']\n",
    "    v_thresh = vulnerability_functions[v]['v_thresh'] * mps_to_knots\n",
    "    v_half = vulnerability_functions[v]['v_half'] * mps_to_knots\n",
    "    \n",
    "    for index,row in df_intensity.iterrows():\n",
    "        intensity = row['intensity_bin_index']\n",
    "        damage_bin = intensity\n",
    "        ws_from = (row['max_windspeed'] - 2.5)\n",
    "        ws_to = (row['max_windspeed'] + 2.5)\n",
    "        damage_from = get_damage_factor(ws_from,v_thresh,v_half)\n",
    "        damage_to = get_damage_factor(ws_to,v_thresh,v_half)\n",
    "        \n",
    "        v_row = [v_id,intensity,damage_bin]\n",
    "        v_lst.append(v_row)\n",
    "        \n",
    "        d_row = [damage_bin,damage_from,damage_to]\n",
    "        d_lst.append(d_row)\n",
    "        \n",
    "df_vuln = pd.DataFrame(data=v_lst,columns=['vulnerability_id','intensity_bin_index','damage_bin_index'],dtype='int')\n",
    "df_vuln['prob']=1\n",
    "df_vuln.to_csv('model_data/vulnerability.csv',index=False)\n",
    "\n",
    "df_vuln"
   ]
  },
  {
   "cell_type": "code",
   "execution_count": null,
   "metadata": {},
   "outputs": [],
   "source": [
    "# generate damage file\n",
    "\n",
    "df_damage = pd.DataFrame(data=d_lst,columns=['damage_bin_index','damage_from','damage_to'])\n",
    "df_damage['interpolation']=df_damage['damage_from'] + (df_damage['damage_to']-df_damage['damage_from'])/2\n",
    "df_damage.to_csv('model_data/damage_bin_dict.csv',index=False)\n",
    "\n",
    "df_damage"
   ]
  },
  {
   "cell_type": "code",
   "execution_count": null,
   "metadata": {},
   "outputs": [],
   "source": []
  }
 ],
 "metadata": {
  "kernelspec": {
   "display_name": "Python 3",
   "language": "python",
   "name": "python3"
  },
  "language_info": {
   "codemirror_mode": {
    "name": "ipython",
    "version": 3
   },
   "file_extension": ".py",
   "mimetype": "text/x-python",
   "name": "python",
   "nbconvert_exporter": "python",
   "pygments_lexer": "ipython3",
   "version": "3.8.10"
  }
 },
 "nbformat": 4,
 "nbformat_minor": 4
}
